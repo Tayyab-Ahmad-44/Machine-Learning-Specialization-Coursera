{
 "cells": [
  {
   "cell_type": "code",
   "execution_count": 4,
   "id": "112a3282-7374-48b7-8881-128a47f680ff",
   "metadata": {},
   "outputs": [],
   "source": [
    "import pandas as pd\n",
    "import numpy as np\n",
    "import matplotlib.pyplot as plt\n",
    "from utils import *"
   ]
  },
  {
   "cell_type": "markdown",
   "id": "d0fc78f8-4195-419d-96f2-f184d7b05d85",
   "metadata": {},
   "source": [
    "|                                                     |   Ear Shape | Face Shape | Whiskers |   Cat  |\r\n",
    "|:---------------------------------------------------:|:---------:|:-----------:|:---------:|:------:|\r\n",
    "| <img src=\"images/0.png\" alt=\"drawing\" width=\"50\"/> |   Pointy   |   Round     |  Present  |    1   |\r\n",
    "| <img src=\"images/1.png\" alt=\"drawing\" width=\"50\"/> |   Floppy   |  Not Round  |  Present  |    1   |\r\n",
    "| <img src=\"images/2.png\" alt=\"drawing\" width=\"50\"/> |   Floppy   |  Round      |  Absent   |    0   |\r\n",
    "| <img src=\"images/3.png\" alt=\"drawing\" width=\"50\"/> |   Pointy   |  Not Round  |  Present  |    0   |\r\n",
    "| <img src=\"images/4.png\" alt=\"drawing\" width=\"50\"/> |   Pointy   |   Round     |  Present  |    1   |\r\n",
    "| <img src=\"images/5.png\" alt=\"drawing\" width=\"50\"/> |   Pointy   |   Round     |  Absent   |    1   |\r\n",
    "| <img src=\"images/6.png\" alt=\"drawing\" width=\"50\"/> |   Floppy   |  Not Round  |  Absent   |    0   |\r\n",
    "| <img src=\"images/7.png\" alt=\"drawing\" width=\"50\"/> |   Pointy   |  Round      |  Absent   |    1   |\r\n",
    "| <img src=\"images/8.png\" alt=\"drawing\" width=\"50\"/> |    Floppy  |   Round     |  Absent   |    0   |\r\n",
    "| <img src=\"images/9.png\" alt=\"drawing\" width=\"50\"/> |   Floppy   |  Round      |  Absent   |    0   |\r\n",
    "\r\n",
    "\r\n",
    "We will use **one-hot encoding** to encode the categorical features. They will be as follows:\r\n",
    "\r\n",
    "- Ear Shape: Pointy = 1, Floppy = 0\r\n",
    "- Face Shape: Round = 1, Not Round = 0\r\n",
    "- Whiskers: Present = 1, Absent = 0\r\n",
    "\r\n",
    "Therefore, we have two sets:\r\n",
    "\r\n",
    "- `X_train`: for each example, contains 3 features:\r\n",
    "            - Ear Shape (1 if pointy, 0 otherwise)\r\n",
    "            - Face Shape (1 if round, 0 otherwise)\r\n",
    "            - Whiskers (1 if present, 0 otherwise)\r\n",
    "            \r\n",
    "- `y_train`: whether the animal is a cat\r\n",
    "            - 1 if the animal is a cat\r\n",
    "            - 0 otherwise"
   ]
  },
  {
   "cell_type": "code",
   "execution_count": 7,
   "id": "9bcdfe3a-d891-42eb-927b-6991331798fb",
   "metadata": {},
   "outputs": [],
   "source": [
    "X_train = np.array([\n",
    " [1, 1, 1],\n",
    " [0, 0, 1],\n",
    " [0, 1, 0],\n",
    " [1, 0, 1],\n",
    " [1, 1, 1],\n",
    " [1, 1, 0],\n",
    " [0, 0, 0],\n",
    " [1, 1, 0],\n",
    " [0, 1, 0],\n",
    " [0, 1, 0]\n",
    "])\n",
    "\n",
    "y_train = np.array([1, 1, 0, 0, 1, 1, 0, 1, 0, 0])    "
   ]
  },
  {
   "cell_type": "markdown",
   "id": "baee0648-c3d8-4786-add2-14148e9ad67c",
   "metadata": {},
   "source": [
    "This means that the first example has a pointy ear shape, round face shape and it has whiskers.\n",
    "On each node, we compute the information gain for each feature, then split the node on the feature with the higher information gain, by comparing the entropy of the node with the weighted entropy in the two splitted nodes. \n",
    "So, the root node has every animal in our dataset. Remember that $p_1^{node}$ is the proportion of positive class (cats) in the root node. So\n",
    "\n",
    "$$p_1^{node} = \\frac{5}{10} = 0.5$$\n",
    "\n",
    "Now let's write a function to compute the entropy."
   ]
  },
  {
   "cell_type": "code",
   "execution_count": 10,
   "id": "79eef3e8-fc59-4c86-8571-7f8fa0e93711",
   "metadata": {},
   "outputs": [
    {
     "name": "stdout",
     "output_type": "stream",
     "text": [
      "1.0\n"
     ]
    }
   ],
   "source": [
    "def entropy(p):\n",
    "    if p == 0 or p == 1:\n",
    "        return 0\n",
    "    else:\n",
    "        return -p * np.log2(p) - (1 - p) * np.log2(1-p)\n",
    "        \n",
    "print(entropy(0.5))"
   ]
  },
  {
   "cell_type": "code",
   "execution_count": 14,
   "id": "0c61d7af-429b-4dce-8782-2e57ace90978",
   "metadata": {},
   "outputs": [],
   "source": [
    "def split_indices(X, index_feature):\n",
    "    left_indices = []\n",
    "    right_indices = []\n",
    "\n",
    "    for i,x in enumerate(X):\n",
    "        if x[index_feature] == 1:\n",
    "            left_indices.append(i)\n",
    "        else:\n",
    "            right_indices.append(i)\n",
    "    return left_indices, right_indices"
   ]
  },
  {
   "cell_type": "code",
   "execution_count": 15,
   "id": "52c0eb2f-c8b4-44df-ad8d-9bbf6389bd1d",
   "metadata": {},
   "outputs": [
    {
     "data": {
      "text/plain": [
       "([0, 3, 4, 5, 7], [1, 2, 6, 8, 9])"
      ]
     },
     "execution_count": 15,
     "metadata": {},
     "output_type": "execute_result"
    }
   ],
   "source": [
    "split_indices(X_train, 0)"
   ]
  },
  {
   "cell_type": "code",
   "execution_count": 16,
   "id": "31c7fcee-e137-4e55-a5d5-981fc072b5f7",
   "metadata": {},
   "outputs": [],
   "source": [
    "def weighted_entropy(X,y,left_indices,right_indices):\n",
    "    \"\"\"\n",
    "    This function takes the splitted dataset, the indices we chose to split and returns the weighted entropy.\n",
    "    \"\"\"\n",
    "    w_left = len(left_indices)/len(X)\n",
    "    w_right = len(right_indices)/len(X)\n",
    "    p_left = sum(y[left_indices])/len(left_indices)\n",
    "    p_right = sum(y[right_indices])/len(right_indices)\n",
    "    \n",
    "    weighted_entropy = w_left * entropy(p_left) + w_right * entropy(p_right)\n",
    "    return weighted_entropy"
   ]
  },
  {
   "cell_type": "markdown",
   "id": "81efa805-49f3-4367-a67b-a2c100a7c1cc",
   "metadata": {},
   "source": [
    "Now we need another function to compute the weighted entropy in the splitted nodes. As you've seen in the video lecture, we must find:\r\n",
    "\r\n",
    "- $w^{\\text{left}}$ and $w^{\\text{right}}$, the proportion of animals in **each node**.\r\n",
    "- $p^{\\text{left}}$ and $p^{\\text{right}}$, the proportion of cats in **each split**.\r\n",
    "\r\n",
    "Note the difference between these two definitions!! To illustrate, if we split the root node on the feature of index 0 (Ear Shape), then in the left node, the one that has the animals 0, 3, 4, 5 and 7, we have:\r\n",
    "\r\n",
    "$$w^{\\text{left}}= \\frac{5}{10} = 0.5 \\text{ and } p^{\\text{left}} = \\frac{4}{5}$$\r\n",
    "$$w^{\\text{right}}= \\frac{5}{10} = 0.5 \\text{ and } p^{\\text{right}} = \\frac{1}{5}$$"
   ]
  },
  {
   "cell_type": "code",
   "execution_count": 17,
   "id": "46567d84-7e1d-4fd6-ab20-e75a0f98e933",
   "metadata": {},
   "outputs": [
    {
     "data": {
      "text/plain": [
       "0.7219280948873623"
      ]
     },
     "execution_count": 17,
     "metadata": {},
     "output_type": "execute_result"
    }
   ],
   "source": [
    "left_indices, right_indices = split_indices(X_train, 0)\n",
    "weighted_entropy(X_train, y_train, left_indices, right_indices)"
   ]
  },
  {
   "cell_type": "code",
   "execution_count": 18,
   "id": "7b473324-67f5-41a7-8684-f7791fd01904",
   "metadata": {},
   "outputs": [],
   "source": [
    "def information_gain(X, y, left_indices, right_indices):\n",
    "    \"\"\"\n",
    "    Here, X has the elements in the node and y is theirs respectives classes\n",
    "    \"\"\"\n",
    "    p_node = sum(y)/len(y)\n",
    "    h_node = entropy(p_node)\n",
    "    w_entropy = weighted_entropy(X,y,left_indices,right_indices)\n",
    "    return h_node - w_entropy"
   ]
  },
  {
   "cell_type": "code",
   "execution_count": 19,
   "id": "6f014f2a-5bdd-46c4-92be-5668a04d4d04",
   "metadata": {},
   "outputs": [
    {
     "data": {
      "text/plain": [
       "0.2780719051126377"
      ]
     },
     "execution_count": 19,
     "metadata": {},
     "output_type": "execute_result"
    }
   ],
   "source": [
    "information_gain(X_train, y_train, left_indices, right_indices)"
   ]
  },
  {
   "cell_type": "code",
   "execution_count": 20,
   "id": "528fe973-8b4f-4aec-b622-a73a504a69f3",
   "metadata": {},
   "outputs": [
    {
     "name": "stdout",
     "output_type": "stream",
     "text": [
      "Feature: Ear Shape, information gain if we split the root node using this feature: 0.28\n",
      "Feature: Face Shape, information gain if we split the root node using this feature: 0.03\n",
      "Feature: Whiskers, information gain if we split the root node using this feature: 0.12\n"
     ]
    }
   ],
   "source": [
    "for i, feature_name in enumerate(['Ear Shape', 'Face Shape', 'Whiskers']):\n",
    "    left_indices, right_indices = split_indices(X_train, i)\n",
    "    i_gain = information_gain(X_train, y_train, left_indices, right_indices)\n",
    "    print(f\"Feature: {feature_name}, information gain if we split the root node using this feature: {i_gain:.2f}\")\n",
    "    "
   ]
  },
  {
   "cell_type": "code",
   "execution_count": null,
   "id": "fe7ddfdc-7551-4e3a-a3aa-bf4d513538fb",
   "metadata": {},
   "outputs": [],
   "source": []
  },
  {
   "cell_type": "code",
   "execution_count": null,
   "id": "1448d47b-13c8-4e91-a3f6-ef1ece19abdd",
   "metadata": {},
   "outputs": [],
   "source": []
  }
 ],
 "metadata": {
  "kernelspec": {
   "display_name": "Python 3 (ipykernel)",
   "language": "python",
   "name": "python3"
  },
  "language_info": {
   "codemirror_mode": {
    "name": "ipython",
    "version": 3
   },
   "file_extension": ".py",
   "mimetype": "text/x-python",
   "name": "python",
   "nbconvert_exporter": "python",
   "pygments_lexer": "ipython3",
   "version": "3.11.5"
  }
 },
 "nbformat": 4,
 "nbformat_minor": 5
}
